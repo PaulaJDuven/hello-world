{
 "cells": [
  {
   "cell_type": "markdown",
   "metadata": {},
   "source": [
    "# this returns the absolute value of var1"
   ]
  },
  {
   "cell_type": "code",
   "execution_count": 9,
   "metadata": {},
   "outputs": [
    {
     "name": "stdout",
     "output_type": "stream",
     "text": [
      "What is var1?-1114\n",
      "The Absolute value of var1 is: 1114.0\n"
     ]
    }
   ],
   "source": [
    "var1 = float(input(\"What is var1?\"))\n",
    "print('The Absolute value of var1 is:', abs(var1))"
   ]
  },
  {
   "cell_type": "markdown",
   "metadata": {},
   "source": [
    "# this returns the ASCII code character for the integer var2 assigned the code for the integers 0 to 255"
   ]
  },
  {
   "cell_type": "code",
   "execution_count": 13,
   "metadata": {},
   "outputs": [
    {
     "name": "stdout",
     "output_type": "stream",
     "text": [
      "Please insert var2 between 0 to 255:258\n",
      "Inserted wrong value. Please try again.\n"
     ]
    }
   ],
   "source": [
    "var2 = int(input(\"Please insert var2 between 0 to 255:\"))\n",
    "if var2 > 255:\n",
    "    print(\"Inserted wrong value. Please try again.\")\n",
    "else:\n",
    "    print('The ASCII code character for var2 is:', chr(var2))"
   ]
  },
  {
   "cell_type": "markdown",
   "metadata": {},
   "source": [
    "# this returns a Complex  whole number for num1 and num2"
   ]
  },
  {
   "cell_type": "code",
   "execution_count": null,
   "metadata": {},
   "outputs": [],
   "source": [
    "num1 = int(input(\"What is the whole number for num1?\"))\n",
    "num2 = int(input(\"What is the whole number for num2?\"))\n",
    "print('The complex whole number for num1 and num2 is:', complex(num1,num2))"
   ]
  },
  {
   "cell_type": "markdown",
   "metadata": {},
   "source": [
    "## this returns a Complex decimal number for num3 and num 4"
   ]
  },
  {
   "cell_type": "code",
   "execution_count": null,
   "metadata": {},
   "outputs": [],
   "source": [
    "num3 = float(input(\"what is the decimal number for num3?\"))\n",
    "num4 = float(input(\"What is the decimal number for num4?\"))\n",
    "print('The complex decimal number for num3 and num 4 is:', complex(num3,num4))"
   ]
  },
  {
   "cell_type": "markdown",
   "metadata": {},
   "source": [
    "### this returns a Complex for num5 plus string(must be j) and num6 plus string(must be j)"
   ]
  },
  {
   "cell_type": "code",
   "execution_count": 5,
   "metadata": {},
   "outputs": [
    {
     "name": "stdout",
     "output_type": "stream",
     "text": [
      "What is the complex j number for num5?1j\n",
      "What is the complex j number for num6?2j\n",
      "The Complex number for num5 and num6 is: (-2+1j)\n"
     ]
    }
   ],
   "source": [
    "num5 = complex(input(\"What is the complex j number for num5?\")) # must input a number 0 to 20 plus string j\n",
    "num6 = complex(input(\"What is the complex j number for num6?\")) # must input a number  0 t0 20 plus string j\n",
    "if num5 == (0j) or (1j) or (2j) or (3j) or (4j) or (5j) or (6j) or (7j) or (8j) or (9j) or (10j) or (11j) or (12j) or (13j) or (14j) or (15j) or (16j) or (17j) or (18j) or (19j) or (20j):\n",
    "    print ('The Complex number for num5 and num6 is:', complex(num5,num6))\n",
    "elif num6 == (0j) or (1j) or (2j) or (3j) or (4j) or (5j) or (6j) or (7j) or (8j) or (9j) or (10j) or (11j) or (12j) or (13j) or (14j) or (15j) or (16j) or (17j) or (18j) or (19j) or (20j):\n",
    "    print ('The Complex number for num5 and num6 is:', complex(num5,num6))\n",
    "else:\n",
    "    print (\"Please enter a Complex j number for num5 and num6.\")"
   ]
  },
  {
   "cell_type": "markdown",
   "metadata": {},
   "source": [
    "# this returns the quotient and remainder of a and b using integer division"
   ]
  },
  {
   "cell_type": "code",
   "execution_count": null,
   "metadata": {},
   "outputs": [],
   "source": [
    "a = int(input(\"What is a?\"))\n",
    "b = int(input(\"What is b?\"))\n",
    "print('The quotient and remainder of integer division of a and b is:', divmod(a,b))"
   ]
  },
  {
   "cell_type": "markdown",
   "metadata": {},
   "source": [
    "# this returns the largest and smallest number of inputed c, d, or e"
   ]
  },
  {
   "cell_type": "code",
   "execution_count": null,
   "metadata": {},
   "outputs": [],
   "source": [
    "c = int(input(\"What is c?\"))\n",
    "d = int(input(\"What is d?\"))\n",
    "e = int(input(\"What is e?\"))\n",
    "print('The largest number is:', max(c, d, e))\n",
    "print('The smallest number is', min(c, d, e))"
   ]
  }
 ],
 "metadata": {
  "kernelspec": {
   "display_name": "Python 3",
   "language": "python",
   "name": "python3"
  },
  "language_info": {
   "codemirror_mode": {
    "name": "ipython",
    "version": 3
   },
   "file_extension": ".py",
   "mimetype": "text/x-python",
   "name": "python",
   "nbconvert_exporter": "python",
   "pygments_lexer": "ipython3",
   "version": "3.7.3"
  }
 },
 "nbformat": 4,
 "nbformat_minor": 2
}
